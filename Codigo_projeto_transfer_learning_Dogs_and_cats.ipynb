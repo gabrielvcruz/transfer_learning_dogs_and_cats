{
  "nbformat": 4,
  "nbformat_minor": 0,
  "metadata": {
    "colab": {
      "provenance": [],
      "authorship_tag": "ABX9TyM/QSSvkNVSXhTFtW1u8yPc",
      "include_colab_link": true
    },
    "kernelspec": {
      "name": "python3",
      "display_name": "Python 3"
    },
    "language_info": {
      "name": "python"
    }
  },
  "cells": [
    {
      "cell_type": "markdown",
      "metadata": {
        "id": "view-in-github",
        "colab_type": "text"
      },
      "source": [
        "<a href=\"https://colab.research.google.com/github/gabrielvcruz/transfer_learning_dogs_and_cats/blob/master/Codigo_projeto_transfer_learning_Dogs_and_cats.ipynb\" target=\"_parent\"><img src=\"https://colab.research.google.com/assets/colab-badge.svg\" alt=\"Open In Colab\"/></a>"
      ]
    },
    {
      "cell_type": "code",
      "execution_count": 16,
      "metadata": {
        "colab": {
          "base_uri": "https://localhost:8080/"
        },
        "id": "TPlJET_kOgMg",
        "outputId": "dac9270f-3e51-409f-ee38-1957675e6971"
      },
      "outputs": [
        {
          "output_type": "stream",
          "name": "stdout",
          "text": [
            "fatal: destination path 'transfer_learning_dogs_and_cats' already exists and is not an empty directory.\n",
            "Cats  Dogs\n"
          ]
        }
      ],
      "source": [
        "!git clone https://github.com/gabrielvcruz/transfer_learning_dogs_and_cats\n",
        "!ls /content/transfer_learning_dogs_and_cats"
      ]
    },
    {
      "cell_type": "code",
      "source": [
        "%matplotlib inline\n",
        "\n",
        "import os\n",
        "import random\n",
        "import numpy as np\n",
        "import keras\n",
        "import tensorflow as tf\n",
        "import matplotlib.pyplot as plt\n",
        "\n",
        "\n",
        "from matplotlib.pyplot import imshow\n",
        "from keras.preprocessing import image\n",
        "from keras.applications.imagenet_utils import preprocess_input\n",
        "from keras.models import Sequential\n",
        "from keras.layers import Dense, Dropout, Flatten, Activation\n",
        "from keras.layers import Conv2D, MaxPooling2D\n",
        "from keras.models import Model"
      ],
      "metadata": {
        "id": "OWbvRmo6Ow2n"
      },
      "execution_count": 13,
      "outputs": []
    },
    {
      "cell_type": "code",
      "source": [
        "#Verifica se o diretorio do dataset foi encontrado e verifica se os arquivos de imagens são válidos\n",
        "import tensorflow as tf\n",
        "\n",
        "dataset_path = '/content/transfer_learning_dogs_and_cats'\n",
        "\n",
        "if not os.path.exists(dataset_path):\n",
        "    raise FileNotFoundError(f\"Erro: O diretório {dataset_path} não foi encontrado! Verifique se o clone do repositório está correto.\")\n",
        "\n",
        "def validate_image(file_path):\n",
        "    \"\"\" Verifica se um arquivo de imagem é válido. \"\"\"\n",
        "    try:\n",
        "        img = tf.io.read_file(file_path)\n",
        "        img = tf.image.decode_image(img, channels=3)\n",
        "        return True\n",
        "    except:\n",
        "        return False\n",
        "\n",
        "valid_files = []\n",
        "\n",
        "for root, dirs, files in os.walk(dataset_path):\n",
        "    for file in files:\n",
        "        file_path = os.path.join(root, file)\n",
        "        if file.lower().endswith(('.jpg', '.jpeg', '.png', '.gif', '.bmp')) and validate_image(file_path):\n",
        "            valid_files.append(file_path)\n",
        "        else:\n",
        "            print(f\"Arquivo inválido: {file_path}\")\n",
        "\n",
        "if not valid_files:\n",
        "    raise ValueError(\"Erro: Nenhuma imagem válida foi encontrada! Verifique o diretório do dataset.\")\n",
        "else:\n",
        "    print(f\"Total de imagens válidas encontradas: {len(valid_files)}\")\n",
        "\n"
      ],
      "metadata": {
        "colab": {
          "base_uri": "https://localhost:8080/"
        },
        "id": "tiM4VoPyO9s8",
        "outputId": "cffc8b0a-0f8c-4734-9bbf-95a43d83b4e8"
      },
      "execution_count": 30,
      "outputs": [
        {
          "output_type": "stream",
          "name": "stdout",
          "text": [
            "Arquivo inválido: /content/transfer_learning_dogs_and_cats/.git/config\n",
            "Arquivo inválido: /content/transfer_learning_dogs_and_cats/.git/HEAD\n",
            "Arquivo inválido: /content/transfer_learning_dogs_and_cats/.git/description\n",
            "Arquivo inválido: /content/transfer_learning_dogs_and_cats/.git/packed-refs\n",
            "Arquivo inválido: /content/transfer_learning_dogs_and_cats/.git/index\n",
            "Arquivo inválido: /content/transfer_learning_dogs_and_cats/.git/info/exclude\n",
            "Arquivo inválido: /content/transfer_learning_dogs_and_cats/.git/hooks/pre-push.sample\n",
            "Arquivo inválido: /content/transfer_learning_dogs_and_cats/.git/hooks/applypatch-msg.sample\n",
            "Arquivo inválido: /content/transfer_learning_dogs_and_cats/.git/hooks/pre-commit.sample\n",
            "Arquivo inválido: /content/transfer_learning_dogs_and_cats/.git/hooks/pre-rebase.sample\n",
            "Arquivo inválido: /content/transfer_learning_dogs_and_cats/.git/hooks/post-update.sample\n",
            "Arquivo inválido: /content/transfer_learning_dogs_and_cats/.git/hooks/prepare-commit-msg.sample\n",
            "Arquivo inválido: /content/transfer_learning_dogs_and_cats/.git/hooks/pre-applypatch.sample\n",
            "Arquivo inválido: /content/transfer_learning_dogs_and_cats/.git/hooks/fsmonitor-watchman.sample\n",
            "Arquivo inválido: /content/transfer_learning_dogs_and_cats/.git/hooks/commit-msg.sample\n",
            "Arquivo inválido: /content/transfer_learning_dogs_and_cats/.git/hooks/pre-merge-commit.sample\n",
            "Arquivo inválido: /content/transfer_learning_dogs_and_cats/.git/hooks/update.sample\n",
            "Arquivo inválido: /content/transfer_learning_dogs_and_cats/.git/hooks/pre-receive.sample\n",
            "Arquivo inválido: /content/transfer_learning_dogs_and_cats/.git/hooks/push-to-checkout.sample\n",
            "Arquivo inválido: /content/transfer_learning_dogs_and_cats/.git/objects/pack/pack-c8a8036f12528292358a3e76dd02fa7f5f573ca5.idx\n",
            "Arquivo inválido: /content/transfer_learning_dogs_and_cats/.git/objects/pack/pack-c8a8036f12528292358a3e76dd02fa7f5f573ca5.pack\n",
            "Arquivo inválido: /content/transfer_learning_dogs_and_cats/.git/logs/HEAD\n",
            "Arquivo inválido: /content/transfer_learning_dogs_and_cats/.git/logs/refs/remotes/origin/HEAD\n",
            "Arquivo inválido: /content/transfer_learning_dogs_and_cats/.git/logs/refs/heads/master\n",
            "Arquivo inválido: /content/transfer_learning_dogs_and_cats/.git/refs/remotes/origin/HEAD\n",
            "Arquivo inválido: /content/transfer_learning_dogs_and_cats/.git/refs/heads/master\n",
            "Total de imagens válidas encontradas: 427\n"
          ]
        }
      ]
    },
    {
      "cell_type": "code",
      "source": [
        "#Lista e verifica categorias detectadas dentro do diretório.\n",
        "root = '/content/transfer_learning_dogs_and_cats'\n",
        "\n",
        "train_split, val_split = 0.7, 0.15\n",
        "\n",
        "categories = [x[0] for x in os.walk(root)][1:]\n",
        "categories = [c for c in categories if os.path.basename(c) not in exclude]\n",
        "\n",
        "if not categories:\n",
        "    raise ValueError(\"Erro: Nenhuma categoria encontrada! Verifique a estrutura do dataset.\")\n",
        "else:\n",
        "    print(f\"Categorias encontradas: {categories}\")\n",
        "\n"
      ],
      "metadata": {
        "colab": {
          "base_uri": "https://localhost:8080/"
        },
        "id": "DQV7n1n-QSRo",
        "outputId": "a3f97324-0074-4dff-867f-085d3abc89ee"
      },
      "execution_count": 32,
      "outputs": [
        {
          "output_type": "stream",
          "name": "stdout",
          "text": [
            "Categorias encontradas: ['/content/transfer_learning_dogs_and_cats/Dogs', '/content/transfer_learning_dogs_and_cats/Cats', '/content/transfer_learning_dogs_and_cats/.git/info', '/content/transfer_learning_dogs_and_cats/.git/branches', '/content/transfer_learning_dogs_and_cats/.git/hooks', '/content/transfer_learning_dogs_and_cats/.git/objects', '/content/transfer_learning_dogs_and_cats/.git/objects/info', '/content/transfer_learning_dogs_and_cats/.git/objects/pack', '/content/transfer_learning_dogs_and_cats/.git/logs', '/content/transfer_learning_dogs_and_cats/.git/logs/refs', '/content/transfer_learning_dogs_and_cats/.git/logs/refs/remotes', '/content/transfer_learning_dogs_and_cats/.git/logs/refs/remotes/origin', '/content/transfer_learning_dogs_and_cats/.git/logs/refs/heads', '/content/transfer_learning_dogs_and_cats/.git/refs', '/content/transfer_learning_dogs_and_cats/.git/refs/remotes', '/content/transfer_learning_dogs_and_cats/.git/refs/remotes/origin', '/content/transfer_learning_dogs_and_cats/.git/refs/tags', '/content/transfer_learning_dogs_and_cats/.git/refs/heads']\n"
          ]
        }
      ]
    }
  ]
}